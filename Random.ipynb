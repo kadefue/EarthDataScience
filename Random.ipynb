{
  "nbformat": 4,
  "nbformat_minor": 0,
  "metadata": {
    "colab": {
      "provenance": [],
      "authorship_tag": "ABX9TyPzsihSrwAXdT9SVkkwcQEQ",
      "include_colab_link": true
    },
    "kernelspec": {
      "name": "python3",
      "display_name": "Python 3"
    },
    "language_info": {
      "name": "python"
    }
  },
  "cells": [
    {
      "cell_type": "markdown",
      "metadata": {
        "id": "view-in-github",
        "colab_type": "text"
      },
      "source": [
        "<a href=\"https://colab.research.google.com/github/kadefue/EarthDataScience/blob/main/Random.ipynb\" target=\"_parent\"><img src=\"https://colab.research.google.com/assets/colab-badge.svg\" alt=\"Open In Colab\"/></a>"
      ]
    },
    {
      "cell_type": "code",
      "execution_count": 5,
      "metadata": {
        "colab": {
          "base_uri": "https://localhost:8080/"
        },
        "id": "z9xQmjIbouNV",
        "outputId": "12b3a6ed-a75b-493a-a676-a5051fa61d42"
      },
      "outputs": [
        {
          "output_type": "execute_result",
          "data": {
            "text/plain": [
              "[22, 19, 38, 37, 10, 16, 8, 5, 23, 15, 20, 30]"
            ]
          },
          "metadata": {},
          "execution_count": 5
        }
      ],
      "source": [
        "import random\n",
        "\n",
        "w = random.sample(range(1,40), k=12)\n",
        "w"
      ]
    },
    {
      "cell_type": "code",
      "source": [
        "w"
      ],
      "metadata": {
        "colab": {
          "base_uri": "https://localhost:8080/"
        },
        "id": "vsWwVHdYqQk6",
        "outputId": "3f8c5468-79ab-449a-d402-b2c80f35427f"
      },
      "execution_count": 4,
      "outputs": [
        {
          "output_type": "execute_result",
          "data": {
            "text/plain": [
              "[29, 4, 25, 28, 18, 27, 31, 21, 1, 3, 11, 17]"
            ]
          },
          "metadata": {},
          "execution_count": 4
        }
      ]
    },
    {
      "cell_type": "markdown",
      "source": [],
      "metadata": {
        "id": "74HrfwXRqG1e"
      }
    },
    {
      "cell_type": "code",
      "metadata": {
        "colab": {
          "base_uri": "https://localhost:8080/"
        },
        "id": "c9b0d3ac",
        "outputId": "642d1441-69a0-4284-fa38-e6d44da0ac49"
      },
      "source": [
        "import random\n",
        "\n",
        "# Define the number of blocks and plants per block\n",
        "num_blocks = 16\n",
        "plants_per_block = 40\n",
        "samples_per_block = 12\n",
        "\n",
        "# Generate random samples for each block\n",
        "block_samples = {}\n",
        "for i in range(num_blocks):\n",
        "    block_name = f\"Block {i+1}\"\n",
        "    samples = random.sample(range(1, plants_per_block + 1), k=samples_per_block)\n",
        "    block_samples[block_name] = samples\n",
        "\n",
        "# Display the samples for each block\n",
        "for block, samples in block_samples.items():\n",
        "    print(f\"{block}: {samples}\")"
      ],
      "execution_count": 12,
      "outputs": [
        {
          "output_type": "stream",
          "name": "stdout",
          "text": [
            "Block 1: [30, 3, 26, 38, 17, 36, 8, 10, 1, 18, 27, 16]\n",
            "Block 2: [36, 15, 30, 2, 16, 34, 11, 20, 6, 19, 5, 8]\n",
            "Block 3: [29, 7, 23, 33, 39, 27, 19, 26, 6, 4, 18, 12]\n",
            "Block 4: [25, 31, 21, 9, 14, 29, 3, 15, 36, 6, 30, 2]\n",
            "Block 5: [9, 8, 36, 27, 19, 29, 26, 4, 24, 16, 33, 18]\n",
            "Block 6: [31, 39, 2, 34, 40, 27, 20, 10, 25, 21, 36, 8]\n",
            "Block 7: [35, 34, 37, 28, 22, 1, 6, 27, 24, 19, 2, 17]\n",
            "Block 8: [9, 37, 1, 34, 18, 15, 32, 39, 13, 12, 35, 21]\n",
            "Block 9: [6, 25, 27, 10, 2, 38, 14, 7, 17, 9, 15, 36]\n",
            "Block 10: [17, 2, 31, 1, 19, 27, 32, 22, 30, 34, 39, 11]\n",
            "Block 11: [10, 33, 8, 6, 27, 22, 40, 34, 36, 26, 14, 31]\n",
            "Block 12: [14, 24, 13, 1, 8, 3, 33, 34, 32, 38, 28, 30]\n",
            "Block 13: [21, 1, 31, 39, 2, 22, 38, 19, 29, 24, 3, 27]\n",
            "Block 14: [3, 36, 26, 32, 15, 25, 35, 1, 5, 11, 8, 24]\n",
            "Block 15: [36, 24, 8, 27, 23, 12, 14, 38, 22, 25, 19, 20]\n",
            "Block 16: [35, 9, 10, 12, 32, 20, 2, 26, 8, 36, 1, 7]\n"
          ]
        }
      ]
    }
  ]
}